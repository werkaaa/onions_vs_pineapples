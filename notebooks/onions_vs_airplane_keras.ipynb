{
 "cells": [
  {
   "cell_type": "code",
   "execution_count": 63,
   "metadata": {},
   "outputs": [],
   "source": [
    "%matplotlib inline\n",
    "from time import time\n",
    "\n",
    "import matplotlib.pyplot as plt\n",
    "\n",
    "import pandas as pd\n",
    "from scipy import io\n",
    "import numpy as np\n",
    "from keras.utils import np_utils\n",
    "from sklearn.model_selection import train_test_split\n",
    "\n",
    "from keras_sequential_ascii import sequential_model_to_ascii_printout\n",
    "#from live_loss_plot import PlotLosses\n",
    "\n",
    "# Keras layers\n",
    "from keras.models import Sequential\n",
    "from keras.layers import Dense, Activation, Flatten\n",
    "from keras.layers import Input, Conv2D, MaxPool2D, Dropout, BatchNormalization, GlobalMaxPool2D\n"
   ]
  },
  {
   "cell_type": "code",
   "execution_count": 64,
   "metadata": {},
   "outputs": [],
   "source": [
    "def data_load(names, amount): #pobiera dane, argumenty: tablica nazw klas, ilośc danych\n",
    "    data_t = {}\n",
    "    data = np.load(\"/home/user/data/\"+names[0]+\".npy\")\n",
    "    X_train = data[0:amount].reshape(-1, 28, 28, 1).astype('float32')/255    \n",
    "    Y_train = amount*[0]\n",
    "    X_test = data[amount:2*amount].reshape(-1, 28, 28, 1).astype('float32')/255\n",
    "    Y_test = amount*[0]\n",
    "    for i in range(len(names)-1):\n",
    "        data = np.load(\"/home/user/data/\"+names[i+1]+\".npy\")\n",
    "        data_t = data[0:amount].reshape(-1, 28, 28, 1).astype('float32')/255\n",
    "        X_train = np.concatenate((X_train, data_t), 0)\n",
    "        Y_train = np.concatenate((Y_train, amount*[i]),0)\n",
    "        \n",
    "        data_t = data[amount:2*amount].reshape(-1, 28, 28, 1).astype('float32')/255\n",
    "        X_test = np.concatenate((X_test, data_t), 0)\n",
    "        Y_test = np.concatenate((Y_test, amount*[i]),0)\n",
    "        \n",
    "    return X_train, Y_train, X_test, Y_test"
   ]
  },
  {
   "cell_type": "code",
   "execution_count": 65,
   "metadata": {},
   "outputs": [],
   "source": [
    "X_train, Y_train, X_test, Y_test = data_load(['airplane', 'onion'], 500)"
   ]
  },
  {
   "cell_type": "code",
   "execution_count": 66,
   "metadata": {},
   "outputs": [
    {
     "name": "stdout",
     "output_type": "stream",
     "text": [
      "Train on 1000 samples, validate on 1000 samples\n",
      "Epoch 1/20\n",
      "1000/1000 [==============================] - 5s 5ms/step - loss: 0.0592 - acc: 0.9810 - val_loss: 5.5787e-05 - val_acc: 1.0000\n",
      "Epoch 2/20\n",
      "1000/1000 [==============================] - 3s 3ms/step - loss: 7.0635e-05 - acc: 1.0000 - val_loss: 2.4581e-05 - val_acc: 1.0000\n",
      "Epoch 3/20\n",
      "1000/1000 [==============================] - 3s 3ms/step - loss: 5.4338e-05 - acc: 1.0000 - val_loss: 2.2139e-05 - val_acc: 1.0000\n",
      "Epoch 4/20\n",
      "1000/1000 [==============================] - 3s 3ms/step - loss: 5.5414e-05 - acc: 1.0000 - val_loss: 1.9515e-05 - val_acc: 1.0000\n",
      "Epoch 5/20\n",
      "1000/1000 [==============================] - 3s 3ms/step - loss: 5.2444e-05 - acc: 1.0000 - val_loss: 1.7579e-05 - val_acc: 1.0000\n",
      "Epoch 6/20\n",
      "1000/1000 [==============================] - 3s 3ms/step - loss: 4.4464e-05 - acc: 1.0000 - val_loss: 1.6452e-05 - val_acc: 1.0000\n",
      "Epoch 7/20\n",
      "1000/1000 [==============================] - 3s 3ms/step - loss: 4.0093e-05 - acc: 1.0000 - val_loss: 1.4441e-05 - val_acc: 1.0000\n",
      "Epoch 8/20\n",
      "1000/1000 [==============================] - 3s 3ms/step - loss: 2.9827e-05 - acc: 1.0000 - val_loss: 1.2625e-05 - val_acc: 1.0000\n",
      "Epoch 9/20\n",
      "1000/1000 [==============================] - 3s 3ms/step - loss: 2.7008e-05 - acc: 1.0000 - val_loss: 1.1843e-05 - val_acc: 1.0000\n",
      "Epoch 10/20\n",
      "1000/1000 [==============================] - 3s 3ms/step - loss: 2.9547e-05 - acc: 1.0000 - val_loss: 1.0032e-05 - val_acc: 1.0000\n",
      "Epoch 11/20\n",
      "1000/1000 [==============================] - 3s 3ms/step - loss: 2.5720e-05 - acc: 1.0000 - val_loss: 9.1953e-06 - val_acc: 1.0000\n",
      "Epoch 12/20\n",
      "1000/1000 [==============================] - 3s 3ms/step - loss: 1.6696e-05 - acc: 1.0000 - val_loss: 8.3590e-06 - val_acc: 1.0000\n",
      "Epoch 13/20\n",
      "1000/1000 [==============================] - 3s 3ms/step - loss: 2.1476e-05 - acc: 1.0000 - val_loss: 7.4373e-06 - val_acc: 1.0000\n",
      "Epoch 14/20\n",
      "1000/1000 [==============================] - 3s 3ms/step - loss: 2.0880e-05 - acc: 1.0000 - val_loss: 6.5511e-06 - val_acc: 1.0000\n",
      "Epoch 15/20\n",
      "1000/1000 [==============================] - 3s 3ms/step - loss: 1.2705e-05 - acc: 1.0000 - val_loss: 6.0016e-06 - val_acc: 1.0000\n",
      "Epoch 16/20\n",
      "1000/1000 [==============================] - 3s 3ms/step - loss: 1.1447e-05 - acc: 1.0000 - val_loss: 5.6217e-06 - val_acc: 1.0000\n",
      "Epoch 17/20\n",
      "1000/1000 [==============================] - 3s 3ms/step - loss: 1.0751e-05 - acc: 1.0000 - val_loss: 5.1382e-06 - val_acc: 1.0000\n",
      "Epoch 18/20\n",
      "1000/1000 [==============================] - 3s 3ms/step - loss: 8.9620e-06 - acc: 1.0000 - val_loss: 4.7786e-06 - val_acc: 1.0000\n",
      "Epoch 19/20\n",
      "1000/1000 [==============================] - 3s 3ms/step - loss: 9.4743e-06 - acc: 1.0000 - val_loss: 4.4960e-06 - val_acc: 1.0000\n",
      "Epoch 20/20\n",
      "1000/1000 [==============================] - 3s 3ms/step - loss: 9.5426e-06 - acc: 1.0000 - val_loss: 4.3127e-06 - val_acc: 1.0000\n"
     ]
    },
    {
     "data": {
      "text/plain": [
       "<keras.callbacks.History at 0x7f9f40088748>"
      ]
     },
     "execution_count": 66,
     "metadata": {},
     "output_type": "execute_result"
    }
   ],
   "source": [
    "model = Sequential()\n",
    "\n",
    "model.add(Conv2D(10, (5, 5), activation='relu',\n",
    "                 input_shape=(28, 28, 1)))\n",
    "model.add(MaxPool2D(pool_size=(2,2)))\n",
    "\n",
    "model.add(Conv2D(20, (5, 5), activation='relu'))\n",
    "model.add(Dropout(0.5))\n",
    "model.add(MaxPool2D(pool_size=(2,2)))\n",
    "\n",
    "model.add(Flatten())\n",
    "model.add(Dense(50, activation='relu'))\n",
    "model.add(Dense(2))\n",
    "model.add(Activation('softmax'))\n",
    "\n",
    "model.compile(optimizer='adam',\n",
    "              loss='sparse_categorical_crossentropy',\n",
    "              metrics=['accuracy'])\n",
    "\n",
    "# training\n",
    "model.fit(X_train, Y_train,\n",
    "          epochs=20,\n",
    "          batch_size=32,\n",
    "          validation_data=(X_test, Y_test))\n",
    "         "
   ]
  },
  {
   "cell_type": "code",
   "execution_count": null,
   "metadata": {},
   "outputs": [],
   "source": []
  }
 ],
 "metadata": {
  "kernelspec": {
   "display_name": "Python 3",
   "language": "python",
   "name": "python3"
  },
  "language_info": {
   "codemirror_mode": {
    "name": "ipython",
    "version": 3
   },
   "file_extension": ".py",
   "mimetype": "text/x-python",
   "name": "python",
   "nbconvert_exporter": "python",
   "pygments_lexer": "ipython3",
   "version": "3.5.2"
  }
 },
 "nbformat": 4,
 "nbformat_minor": 2
}

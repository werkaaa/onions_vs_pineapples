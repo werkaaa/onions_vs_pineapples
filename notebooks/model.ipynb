{
 "cells": [
  {
   "cell_type": "code",
   "execution_count": 2,
   "metadata": {},
   "outputs": [
    {
     "name": "stderr",
     "output_type": "stream",
     "text": [
      "Using TensorFlow backend.\n"
     ]
    }
   ],
   "source": [
    "import numpy as np\n",
    "\n",
    "\n",
    "import torch\n",
    "from torch import nn\n",
    "from torch.autograd import Variable\n",
    "from torch.utils.data.dataset import Dataset\n",
    "from torch.utils.data import DataLoader\n",
    "from torch.utils.data import TensorDataset\n",
    "\n",
    "import torch.nn.functional as F\n",
    "\n",
    "import pandas as pd\n",
    "\n",
    "from matplotlib import pyplot as plt\n",
    "\n",
    "%matplotlib inline\n",
    "\n",
    "from livelossplot import PlotLosses"
   ]
  },
  {
   "cell_type": "code",
   "execution_count": 41,
   "metadata": {},
   "outputs": [],
   "source": [
    "def data_load(names, amount): #pobiera dane, argumenty: tablica nazw klas, ilośc danych\n",
    "    data_t = {}\n",
    "    X_train = torch.tensor([])\n",
    "    Y_train = torch.LongTensor([])\n",
    "    X_test = torch.tensor([])\n",
    "    Y_test = torch.LongTensor([])\n",
    "    for i in range(len(names)):\n",
    "        data = np.load(\"/home/user/data/\"+names[i]+\".npy\")\n",
    "        data_t =torch.from_numpy(data[:amount].reshape(-1, 1, 28, 28).astype('float32')/255)\n",
    "        X_train = torch.cat((X_train, data_t), 0)\n",
    "        Y_train = torch.cat((Y_train, torch.LongTensor(amount*[i])),0)\n",
    "        \n",
    "        data_t =torch.from_numpy(data[amount:2*amount].reshape(-1, 1, 28, 28).astype('float32')/255)\n",
    "        X_test = torch.cat((X_test, data_t), 0)\n",
    "        Y_test = torch.cat((Y_test, torch.LongTensor(amount*[i])),0)\n",
    "        \n",
    "    return X_train, Y_train, X_test, Y_test"
   ]
  },
  {
   "cell_type": "code",
   "execution_count": 30,
   "metadata": {},
   "outputs": [],
   "source": [
    "class Net(nn.Module):\n",
    "    def __init__(self, classes_num):\n",
    "        self.classes_num = classes_num\n",
    "        super(Net, self).__init__()\n",
    "        self.conv1 = nn.Conv2d(1, 10, kernel_size=5)\n",
    "        self.conv2 = nn.Conv2d(10, 20, kernel_size=5)\n",
    "        self.conv2_drop = nn.Dropout2d()\n",
    "        self.fc1 = nn.Linear(320, 50)\n",
    "        self.fc2 = nn.Linear(50, self.classes_num)\n",
    "\n",
    "    def forward(self, x):\n",
    "        x = F.relu(F.max_pool2d(self.conv1(x), 2))\n",
    "        x = F.relu(F.max_pool2d(self.conv2_drop(self.conv2(x)), 2))\n",
    "        x = x.view(-1, 320)\n",
    "        x = F.relu(self.fc1(x))\n",
    "        x = F.dropout(x, training=self.training)\n",
    "        x = self.fc2(x)\n",
    "        return F.log_softmax(x, dim=1)"
   ]
  },
  {
   "cell_type": "code",
   "execution_count": 31,
   "metadata": {},
   "outputs": [],
   "source": [
    "def train(model, device, train_loader, optimizer, epoch):\n",
    "    model.train()\n",
    "    train_loss = 0\n",
    "    train_correct = 0\n",
    "    for batch_idx, (data, target) in enumerate(train_loader):\n",
    "        data, target = data.to(device), target.to(device)\n",
    "        optimizer.zero_grad()\n",
    "        output = model(data)\n",
    "        loss = F.nll_loss(output, target)\n",
    "        loss.backward()\n",
    "        optimizer.step()\n",
    "        \n",
    "        train_loss += F.nll_loss(output, target, reduction='sum').item() # sum up batch loss\n",
    "        pred = output.max(1, keepdim=True)[1] # get the index of the max log-probability\n",
    "        train_correct += pred.eq(target.view_as(pred)).sum().item()\n",
    "    \n",
    "    avg_loss = train_loss / len(train_loader.dataset)\n",
    "    avg_accuracy = train_correct / len(train_loader.dataset)\n",
    "    \n",
    "\n",
    "        \n",
    "    print('Train Epoch: {} [{}/{} ({:.0f}%)]\\tLoss: {:.6f}'.format(\n",
    "                epoch, batch_idx * len(data), len(train_loader.dataset),\n",
    "                100. * batch_idx / len(train_loader), loss.item()))\n",
    "    \n",
    "    return avg_loss, avg_accuracy\n",
    "\n",
    "\n",
    "def test(model, device, test_loader):\n",
    "    model.eval()\n",
    "    test_loss = 0\n",
    "    test_correct = 0\n",
    "    with torch.no_grad():\n",
    "        for data, target in test_loader:\n",
    "            data, target = data.to(device), target.to(device)\n",
    "            output = model(data)\n",
    "            test_loss += F.nll_loss(output, target, reduction='sum').item() # sum up batch loss\n",
    "            pred = output.max(1, keepdim=True)[1] # get the index of the max log-probability\n",
    "            test_correct += pred.eq(target.view_as(pred)).sum().item()\n",
    "    \n",
    "\n",
    "    test_loss /= len(test_loader.dataset)\n",
    "    avg_loss_val = test_loss\n",
    "    avg_accuracy_val = test_correct / len(test_loader.dataset)\n",
    "\n",
    "    \n",
    "        \n",
    "\n",
    "    print('\\nTest set: Average loss: {:.4f}, Accuracy: {}/{} ({:.0f}%)\\n'.format(\n",
    "        test_loss, test_correct, len(test_loader.dataset),\n",
    "        100. * test_correct / len(test_loader.dataset)))\n",
    "    \n",
    "    return avg_loss_val, avg_accuracy_val\n",
    "\n"
   ]
  },
  {
   "cell_type": "code",
   "execution_count": 51,
   "metadata": {},
   "outputs": [],
   "source": [
    "def apply( epoch, names, amount ): #stosuje wcześniej zdefiniowane funkcje, argument: \n",
    "                                   #epoch-ilość przejśc przez dane treningowe, \n",
    "                                   #names-tablica nazw klas,\n",
    "                                   #amount-ilość danych,\n",
    "            \n",
    "    model = Net(len(names))\n",
    "    device = torch.device(\"cpu\")\n",
    "    X_train, Y_train, X_test, Y_test = data_load(names, amount)        \n",
    "    train_loader  = DataLoader(TensorDataset(X_train,Y_train),\n",
    "                         batch_size=32, shuffle=True)\n",
    "    test_loader = DataLoader(TensorDataset(X_test, Y_test),\n",
    "                         batch_size=32, shuffle=False)  \n",
    "    \n",
    "    optimizer = torch.optim.Adam(model.parameters(), lr=1e-3)\n",
    "\n",
    "    liveloss = PlotLosses()\n",
    "\n",
    "    for epoch in range(epoch):\n",
    "\n",
    "        avg_loss, avg_accuracy = train(model, device, train_loader, optimizer, epoch)  \n",
    "        avg_loss_val, avg_accuracy_val = test(model, device, test_loader)\n",
    "    \n",
    "        liveloss.update({\n",
    "            'val_log loss': avg_loss_val,\n",
    "            'val_accuracy': avg_accuracy_val,\n",
    "            'log loss': avg_loss,\n",
    "            'accuracy': avg_accuracy,\n",
    "        })\n",
    "    \n",
    "        liveloss.draw()\n",
    "\n",
    "\n"
   ]
  },
  {
   "cell_type": "code",
   "execution_count": 53,
   "metadata": {},
   "outputs": [
    {
     "data": {
      "image/png": "[encoded data removed]",
      "text/plain": [
       "<Figure size 864x576 with 2 Axes>"
      ]
     },
     "metadata": {
      "needs_background": "light"
     },
     "output_type": "display_data"
    }
   ],
   "source": [
    "#apply(10, ['airplane', 'onion'], 1000)"
   ]
  },
  {
   "cell_type": "code",
   "execution_count": null,
   "metadata": {},
   "outputs": [],
   "source": []
  }
 ],
 "metadata": {
  "kernelspec": {
   "display_name": "Python 3",
   "language": "python",
   "name": "python3"
  },
  "language_info": {
   "codemirror_mode": {
    "name": "ipython",
    "version": 3
   },
   "file_extension": ".py",
   "mimetype": "text/x-python",
   "name": "python",
   "nbconvert_exporter": "python",
   "pygments_lexer": "ipython3",
   "version": "3.5.2"
  }
 },
 "nbformat": 4,
 "nbformat_minor": 2
}
